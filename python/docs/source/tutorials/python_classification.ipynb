{
 "cells": [
  {
   "cell_type": "markdown",
   "metadata": {},
   "source": [
    "# Classification"
   ]
  },
  {
   "cell_type": "code",
   "execution_count": null,
   "metadata": {},
   "outputs": [],
   "source": [
    "import pandas as pd\n",
    "import sklearn\n",
    "import sklearn.model_selection\n",
    "import sklearn.datasets\n",
    "import vowpalwabbit"
   ]
  },
  {
   "cell_type": "code",
   "execution_count": null,
   "metadata": {},
   "outputs": [],
   "source": [
    "iris_dataset = sklearn.datasets.load_iris()\n",
    "iris_dataframe = pd.DataFrame(\n",
    "    data=iris_dataset.data, columns=iris_dataset.feature_names\n",
    ")\n",
    "# vw expects labels starting from 1\n",
    "iris_dataframe[\"y\"] = iris_dataset.target + 1\n",
    "training_data, testing_data = sklearn.model_selection.train_test_split(\n",
    "    iris_dataframe, test_size=0.2\n",
    ")"
   ]
  },
  {
   "cell_type": "code",
   "execution_count": null,
   "metadata": {},
   "outputs": [],
   "source": [
    "def to_vw_format(row):\n",
    "    res = f\"{int(row.y)} |\"\n",
    "    for idx, value in row.drop([\"y\"]).iteritems():\n",
    "        feature_name = idx.replace(\" \", \"_\").replace(\"(\", \"\").replace(\")\", \"\")\n",
    "        res += f\" {feature_name}:{value}\"\n",
    "    return res"
   ]
  },
  {
   "cell_type": "markdown",
   "metadata": {},
   "source": [
    "## Vowpal Wabbit input format\n",
    "\n",
    "Vowpal Wabbit has its own input format we can use. Let's see what it looks like."
   ]
  },
  {
   "cell_type": "code",
   "execution_count": null,
   "metadata": {},
   "outputs": [],
   "source": [
    "for ex in training_data.head(10).apply(to_vw_format, axis=1):\n",
    "    print(ex)"
   ]
  },
  {
   "cell_type": "code",
   "execution_count": null,
   "metadata": {},
   "outputs": [],
   "source": [
    "vw = vowpalwabbit.Workspace(\"--oaa 3 --quiet\")\n",
    "\n",
    "# learn from training set with multiple passes\n",
    "for example in training_data.apply(to_vw_format, axis=1):\n",
    "    vw.learn(example)\n",
    "\n",
    "# predict from the testing set\n",
    "predictions = []\n",
    "for example in testing_data.apply(to_vw_format, axis=1):\n",
    "    predicted_class = vw.predict(example)\n",
    "    predictions.append(predicted_class)"
   ]
  },
  {
   "cell_type": "code",
   "execution_count": null,
   "metadata": {},
   "outputs": [],
   "source": [
    "accuracy = len(testing_data[testing_data.y == predictions]) / len(testing_data)\n",
    "\n",
    "print(f\"Model accuracy {accuracy}\")"
   ]
  }
 ],
 "metadata": {
  "kernelspec": {
   "display_name": "Python 3",
   "language": "python",
   "name": "python3"
  },
  "language_info": {
   "codemirror_mode": {
    "name": "ipython",
    "version": 3
   },
   "file_extension": ".py",
   "mimetype": "text/x-python",
   "name": "python",
   "nbconvert_exporter": "python",
   "pygments_lexer": "ipython3",
   "version": "3.9.7"
  }
 },
 "nbformat": 4,
 "nbformat_minor": 2
}
