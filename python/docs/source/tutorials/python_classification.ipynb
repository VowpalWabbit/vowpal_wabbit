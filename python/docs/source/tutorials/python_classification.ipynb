{
 "cells": [
  {
   "cell_type": "markdown",
   "metadata": {},
   "source": [
    "# Classification"
   ]
  },
  {
   "cell_type": "code",
   "execution_count": 1,
   "metadata": {},
   "outputs": [],
   "source": [
    "import pandas as pd\n",
    "import sklearn\n",
    "import sklearn.model_selection\n",
    "import sklearn.datasets"
   ]
  },
  {
   "cell_type": "code",
   "execution_count": 2,
   "metadata": {},
   "outputs": [
    {
     "ename": "AttributeError",
     "evalue": "module 'sklearn' has no attribute 'datasets'",
     "output_type": "error",
     "traceback": [
      "\u001b[0;31m---------------------------------------------------------------------------\u001b[0m",
      "\u001b[0;31mAttributeError\u001b[0m                            Traceback (most recent call last)",
      "\u001b[0;32m/var/folders/s8/grcb9vjd3_s85brfb9bz73c40000gn/T/ipykernel_30024/1031728472.py\u001b[0m in \u001b[0;36m<module>\u001b[0;34m\u001b[0m\n\u001b[0;32m----> 1\u001b[0;31m \u001b[0miris_dataset\u001b[0m \u001b[0;34m=\u001b[0m \u001b[0msklearn\u001b[0m\u001b[0;34m.\u001b[0m\u001b[0mdatasets\u001b[0m\u001b[0;34m.\u001b[0m\u001b[0mload_iris\u001b[0m\u001b[0;34m(\u001b[0m\u001b[0;34m)\u001b[0m\u001b[0;34m\u001b[0m\u001b[0;34m\u001b[0m\u001b[0m\n\u001b[0m\u001b[1;32m      2\u001b[0m iris_dataframe = pd.DataFrame(\n\u001b[1;32m      3\u001b[0m     data=iris_dataset.data, columns=iris_dataset.feature_names)\n\u001b[1;32m      4\u001b[0m \u001b[0;31m# vw expects labels starting from 1\u001b[0m\u001b[0;34m\u001b[0m\u001b[0;34m\u001b[0m\u001b[0m\n\u001b[1;32m      5\u001b[0m \u001b[0miris_dataframe\u001b[0m\u001b[0;34m[\u001b[0m\u001b[0;34m\"y\"\u001b[0m\u001b[0;34m]\u001b[0m \u001b[0;34m=\u001b[0m \u001b[0miris_dataset\u001b[0m\u001b[0;34m.\u001b[0m\u001b[0mtarget\u001b[0m \u001b[0;34m+\u001b[0m \u001b[0;36m1\u001b[0m\u001b[0;34m\u001b[0m\u001b[0;34m\u001b[0m\u001b[0m\n",
      "\u001b[0;31mAttributeError\u001b[0m: module 'sklearn' has no attribute 'datasets'"
     ]
    }
   ],
   "source": [
    "iris_dataset = sklearn.datasets.load_iris()\n",
    "iris_dataframe = pd.DataFrame(\n",
    "    data=iris_dataset.data, columns=iris_dataset.feature_names)\n",
    "# vw expects labels starting from 1\n",
    "iris_dataframe[\"y\"] = iris_dataset.target + 1\n",
    "training_data, testing_data = sklearn.model_selection.train_test_split(\n",
    "    iris_dataframe, test_size=0.2)\n"
   ]
  },
  {
   "cell_type": "code",
   "execution_count": null,
   "metadata": {},
   "outputs": [],
   "source": [
    "def to_vw_format(row):\n",
    "    res = f'{int(row.y)} |'\n",
    "    for idx, value in row.drop(['y']).iteritems():\n",
    "        feature_name = idx.replace(' ', '_').replace('(', '').replace(')', '')\n",
    "        res += f' {feature_name}:{value}'\n",
    "    return res\n"
   ]
  },
  {
   "cell_type": "markdown",
   "metadata": {},
   "source": [
    "## Vowpal Wabbit input format\n",
    "\n",
    "Vowpal Wabbit has its own input format we can use. Let's see what it looks like."
   ]
  },
  {
   "cell_type": "code",
   "execution_count": null,
   "metadata": {},
   "outputs": [
    {
     "name": "stdout",
     "output_type": "stream",
     "text": [
      "1 | sepal_length_cm:4.3 sepal_width_cm:3.0 petal_length_cm:1.1 petal_width_cm:0.1\n",
      "3 | sepal_length_cm:6.4 sepal_width_cm:2.8 petal_length_cm:5.6 petal_width_cm:2.2\n",
      "2 | sepal_length_cm:6.1 sepal_width_cm:2.8 petal_length_cm:4.0 petal_width_cm:1.3\n",
      "3 | sepal_length_cm:6.4 sepal_width_cm:2.8 petal_length_cm:5.6 petal_width_cm:2.1\n",
      "3 | sepal_length_cm:7.2 sepal_width_cm:3.6 petal_length_cm:6.1 petal_width_cm:2.5\n",
      "3 | sepal_length_cm:6.4 sepal_width_cm:2.7 petal_length_cm:5.3 petal_width_cm:1.9\n",
      "3 | sepal_length_cm:7.7 sepal_width_cm:3.8 petal_length_cm:6.7 petal_width_cm:2.2\n",
      "1 | sepal_length_cm:4.8 sepal_width_cm:3.1 petal_length_cm:1.6 petal_width_cm:0.2\n",
      "1 | sepal_length_cm:4.6 sepal_width_cm:3.2 petal_length_cm:1.4 petal_width_cm:0.2\n",
      "1 | sepal_length_cm:5.2 sepal_width_cm:3.5 petal_length_cm:1.5 petal_width_cm:0.2\n"
     ]
    }
   ],
   "source": [
    "for ex in training_data.head(10).apply(to_vw_format, axis=1):\n",
    "    print(ex)\n"
   ]
  },
  {
   "cell_type": "code",
   "execution_count": null,
   "metadata": {},
   "outputs": [],
   "source": [
    "from vowpalwabbit import pyvw\n",
    "\n",
    "vw = pyvw.vw(\"--oaa 3 --quiet\")\n",
    "\n",
    "# learn from training set with multiple passes\n",
    "for example in training_data.apply(to_vw_format, axis=1):\n",
    "    vw.learn(example)\n",
    "\n",
    "# predict from the testing set\n",
    "predictions = []\n",
    "for example in testing_data.apply(to_vw_format, axis=1):\n",
    "    predicted_class = vw.predict(example)\n",
    "    predictions.append(predicted_class)\n"
   ]
  },
  {
   "cell_type": "code",
   "execution_count": null,
   "metadata": {},
   "outputs": [
    {
     "name": "stdout",
     "output_type": "stream",
     "text": [
      "Model accuracy 0.8333333333333334\n"
     ]
    }
   ],
   "source": [
    "accuracy = len(testing_data[testing_data.y == predictions]) / len(testing_data)\n",
    "\n",
    "print(f'Model accuracy {accuracy}')"
   ]
  }
 ],
 "metadata": {
  "kernelspec": {
   "display_name": "Python 3",
   "language": "python",
   "name": "python3"
  },
  "language_info": {
   "codemirror_mode": {
    "name": "ipython",
    "version": 3
   },
   "file_extension": ".py",
   "mimetype": "text/x-python",
   "name": "python",
   "nbconvert_exporter": "python",
   "pygments_lexer": "ipython3",
   "version": "3.9.7"
  }
 },
 "nbformat": 4,
 "nbformat_minor": 2
}
