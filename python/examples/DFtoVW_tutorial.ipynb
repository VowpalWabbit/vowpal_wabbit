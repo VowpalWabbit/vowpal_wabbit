{
 "cells": [
  {
   "cell_type": "markdown",
   "metadata": {},
   "source": [
    "# Tutorial: Using DFtoVW and exploring VW output\n",
    "\n",
    "---\n",
    "\n",
    "The purpose of this tutorial is to show how to use the `DFtoVW` class to convert a pandas's DataFrame into a list of Vowpal Wabbit examples and to explore the outputs (model weights, VW output log) of the trained model. The VW output log is parsed using the class `VWLogParser` defined in this notebook.\n",
    "\n",
    "The task is to predict the concentration of [particulate matter](https://en.wikipedia.org/wiki/Particulates) (more specifically PM 2.5) in the atmosphere of 5 chinese cities. The original dataset contained 19 columns (targets, datetime and atmospheric features) and 167 358 observations.\n",
    "- For more details on the data, see the following UCI repository: https://archive.ics.uci.edu/ml/datasets/PM2.5+Data+of+Five+Chinese+Cities\n",
    "- For the associated academic papers, see [Liang, Xuan, et al. \"PM2. 5 data reliability, consistency, and air quality assessment in five Chinese cities.\"](https://agupubs.onlinelibrary.wiley.com/doi/full/10.1002/2016JD024877) and [Liang, Xuan, et al. \"Assessing Beijing's PM2. 5 pollution: severity, weather impact, APEC and winter heating.\"](https://royalsocietypublishing.org/doi/10.1098/rspa.2015.0257)\n",
    "\n",
    "The data can be download from the following URL: https://archive.ics.uci.edu/ml/machine-learning-databases/00394/FiveCitiePMData.rar. A function `download_data` is available in this notebook to download and extract the data (but this step can be done manually if desired). The folder is containing the data is defined using the constant variable `DATA_FOLDER` and is `'PM_DATA'` by default.\n",
    "\n",
    "### Notebook outline\n",
    "\n",
    "**1. Data**\n",
    "\n",
    "**2. Train a first model**\n",
    "\n",
    "**3. Visualizing model outputs**\n",
    "\n",
    "**4. Train a more complex model: using log transformed target and namespace interactions**\n",
    "\n",
    "\n",
    "### Requirements\n",
    "\n",
    "The notebook was developed for VW 8.11.0.\n",
    "\n",
    "It should work with older versions (>= 8.10) except for one cell in section 4.3 where the attribute `name` of `Feature` is accessed.\n",
    "\n",
    "---\n",
    "\n",
    "\n",
    "### Importing packages/modules"
   ]
  },
  {
   "cell_type": "code",
   "execution_count": 1,
   "metadata": {},
   "outputs": [],
   "source": [
    "import os\n",
    "from os.path import join\n",
    "import re\n",
    "\n",
    "import pandas as pd\n",
    "import matplotlib.pyplot as plt\n",
    "import numpy as np\n",
    "import seaborn as sns\n",
    "\n",
    "from vowpalwabbit.DFtoVW import DFtoVW\n",
    "from vowpalwabbit.pyvw import vw"
   ]
  },
  {
   "cell_type": "markdown",
   "metadata": {},
   "source": [
    "### Defining functions/class\n"
   ]
  },
  {
   "cell_type": "code",
   "execution_count": 2,
   "metadata": {},
   "outputs": [],
   "source": [
    "# Data import/download functions\n",
    "def download_data(dest_dir=\"PM_DATA\"):\n",
    "    import requests\n",
    "    from io import BytesIO\n",
    "    from rarfile import RarFile\n",
    "    \n",
    "    URL_PM_CITIES = \"https://archive.ics.uci.edu/ml/machine-learning-databases/00394/FiveCitiePMData.rar\"\n",
    "\n",
    "    print(f\"Downloading data at {URL_PM_CITIES}\")\n",
    "    r = requests.get(URL_PM_CITIES)\n",
    "    bcontent = BytesIO(r.content)\n",
    "    rf = RarFile(bcontent)\n",
    "    \n",
    "    print(f\"Extracting content in folder {repr(dest_dir)}\")\n",
    "    rf.extractall(dest_dir)\n",
    "\n",
    "def import_pm_city_data(folder_path, verbose=True):\n",
    "    df_lst = []\n",
    "    for fname in os.listdir(folder_path):\n",
    "        fpath = join(folder_path, fname)\n",
    "        if verbose:\n",
    "            print(f\"Importing file: {fpath}\")\n",
    "        city_name = re.sub(\"pm$\", repl=\"\", string=re.search(\"^[a-z]+\", string=fname.lower()).group())\n",
    "        \n",
    "        df_city = pd.read_csv(fpath)\n",
    "        df_city_clean = (df_city\n",
    "                         .assign(city=city_name)\n",
    "                         .drop(columns=[\"No\"] + [col for col in df_city.columns if (\"PM\" in col) and (col != \"PM_US Post\")])\n",
    "                         .rename(columns={\"PM_US Post\": \"PM\"})\n",
    "                         .dropna(subset=[\"PM\"])\n",
    "        )\n",
    "        df_lst += [df_city_clean]\n",
    "    \n",
    "    df_city = (\n",
    "        pd.concat(df_lst) # append dataframes\n",
    "        .sample(frac=1, random_state=123) # shuffle\n",
    "        .reset_index(drop=True)\n",
    "    )\n",
    "    \n",
    "    return df_city\n",
    "\n",
    "# VW output parsing function/class\n",
    "class VWLogParser:\n",
    "    \"\"\"Parser for Vowpal Wabbit output log/diagnostic\"\"\"\n",
    "    \n",
    "    def __init__(self, file_path_or_list):\n",
    "        \"\"\"The file name or list of lines to parse\"\"\"\n",
    "        if isinstance(file_path_or_list, (list, str)):\n",
    "            self.file_path_or_list = file_path_or_list\n",
    "        else:\n",
    "            raise TypeError(\"Argument `fname` should be a str (for file path) or a list of log lines\")\n",
    "    \n",
    "    def parse(self):\n",
    "        \"\"\"Parse the output from `vw` command, return dataframe/dictionnaries with the associated data.\"\"\"\n",
    "        # Init containers \n",
    "        self.table_lst = []\n",
    "        self.params = {}\n",
    "        self.metrics = {}\n",
    "\n",
    "        self.inside_table = False\n",
    "        self.after_table = False\n",
    "        \n",
    "        if isinstance(self.file_path_or_list, list):\n",
    "            for row in self.file_path_or_list:\n",
    "                self._parse_vw_row(row)\n",
    "        else:\n",
    "            with open(self.file_path_or_list, \"r\") as f:\n",
    "                for row in f:\n",
    "                    self._parse_vw_row(row)\n",
    "            \n",
    "\n",
    "        self.df = self._make_output_df(self.table_lst)\n",
    "\n",
    "        return self.params, self.df, self.metrics\n",
    "\n",
    "    def _cast_string(self, s):\n",
    "        \"\"\"Cast to float or int if possible\"\"\"\n",
    "        try:\n",
    "            out = float(s)\n",
    "        except ValueError:\n",
    "            out = s\n",
    "        else:\n",
    "            if out.is_integer():\n",
    "                out = int(out)\n",
    "\n",
    "        return out\n",
    "\n",
    "    def _make_output_df(self, lst):\n",
    "        \"\"\"Make dataframe from the list\"\"\"\n",
    "        # Make columns from first and second elements of the list\n",
    "        columns = [f\"{first_row}_{second_row}\" for (first_row, second_row) in zip(*lst[:2])]\n",
    "\n",
    "        df = pd.DataFrame(data=lst[2:], columns=columns)\n",
    "\n",
    "        # Cast cols to appropriate types\n",
    "        int_cols = [\"example_counter\", \"current_features\"]\n",
    "        for col in int_cols:\n",
    "            df[col] = df[col].astype(int)\n",
    "\n",
    "        float_cols = df.columns.drop(int_cols)\n",
    "        for col in float_cols:\n",
    "            df[col] = df[col].astype(float)\n",
    "\n",
    "        return df\n",
    "\n",
    "    def _parse_vw_row(self, row):\n",
    "        \"\"\"Parse row and add parsed elements to instance attributes params, metrics and table_lst\"\"\"\n",
    "        if \"=\" in row:\n",
    "            param_name, value = [element.strip() for element in row.split(\"=\", maxsplit=1)]\n",
    "            if self.after_table:\n",
    "                self.metrics[param_name] = self._cast_string(value)\n",
    "            else:\n",
    "                self.params[param_name] = self._cast_string(value)\n",
    "        elif \":\" in row:\n",
    "            param_name, value = [element.strip() for element in row.split(\":\", maxsplit=1)]\n",
    "            self.params[param_name] = self._cast_string(value)\n",
    "\n",
    "        elif not self.after_table:\n",
    "            if re.match(\"average\\s+since\", row):\n",
    "                self.inside_table = True\n",
    "            if row == \"\\n\":\n",
    "                self.inside_table = False\n",
    "                self.after_table = True\n",
    "            if self.inside_table:\n",
    "                self.table_lst += [row.split()]\n",
    "\n",
    "\n",
    "# Model weight inspection functions                \n",
    "def get_feature_names(df):\n",
    "    cat_names = get_cat_feature_names(df)\n",
    "    num_names = df.select_dtypes(np.number).columns.tolist()\n",
    "    \n",
    "    return cat_names + num_names\n",
    "\n",
    "\n",
    "def get_cat_feature_names(df):\n",
    "    unique_values_cat = df.select_dtypes(object).apply(lambda s: s.dropna().unique())\n",
    "    cat_names = [f\"{key}={value}\" \n",
    "                 for (key, unique_values) in unique_values_cat.items()\n",
    "                 for value in unique_values\n",
    "    ]\n",
    "    \n",
    "    return cat_names\n",
    "\n",
    "\n",
    "def get_weight_from_name(model, feature_name, namespace_name=\" \"):\n",
    "    space_hash = model.hash_space(namespace_name)\n",
    "    feat_hash = model.hash_feature(feature_name, space_hash)\n",
    "    return model.get_weight(feat_hash)"
   ]
  },
  {
   "cell_type": "markdown",
   "metadata": {},
   "source": [
    "### Constants"
   ]
  },
  {
   "cell_type": "code",
   "execution_count": 3,
   "metadata": {
    "tags": []
   },
   "outputs": [],
   "source": [
    "# Data\n",
    "DATA_FOLDER = \"PM_DATA\"\n",
    "\n",
    "# Graphical\n",
    "SUPTITLE_FONTSIZE = 20\n",
    "SUPTITLE_FONTWEIGHT = \"bold\"\n",
    "TITLE_FONTSIZE = 15"
   ]
  },
  {
   "cell_type": "markdown",
   "metadata": {},
   "source": [
    "---"
   ]
  },
  {
   "cell_type": "markdown",
   "metadata": {},
   "source": [
    "# 1. Data\n",
    "\n",
    "## 1.1. Import"
   ]
  },
  {
   "cell_type": "code",
   "execution_count": 4,
   "metadata": {},
   "outputs": [
    {
     "name": "stdout",
     "output_type": "stream",
     "text": [
      "Importing file: PM_DATA/ShanghaiPM20100101_20151231.csv\n",
      "Importing file: PM_DATA/ShenyangPM20100101_20151231.csv\n",
      "Importing file: PM_DATA/ChengduPM20100101_20151231.csv\n",
      "Importing file: PM_DATA/GuangzhouPM20100101_20151231.csv\n",
      "Importing file: PM_DATA/BeijingPM20100101_20151231.csv\n"
     ]
    },
    {
     "data": {
      "text/html": [
       "<div>\n",
       "<style scoped>\n",
       "    .dataframe tbody tr th:only-of-type {\n",
       "        vertical-align: middle;\n",
       "    }\n",
       "\n",
       "    .dataframe tbody tr th {\n",
       "        vertical-align: top;\n",
       "    }\n",
       "\n",
       "    .dataframe thead th {\n",
       "        text-align: right;\n",
       "    }\n",
       "</style>\n",
       "<table border=\"1\" class=\"dataframe\">\n",
       "  <thead>\n",
       "    <tr style=\"text-align: right;\">\n",
       "      <th></th>\n",
       "      <th>year</th>\n",
       "      <th>month</th>\n",
       "      <th>day</th>\n",
       "      <th>hour</th>\n",
       "      <th>season</th>\n",
       "      <th>PM</th>\n",
       "      <th>DEWP</th>\n",
       "      <th>HUMI</th>\n",
       "      <th>PRES</th>\n",
       "      <th>TEMP</th>\n",
       "      <th>cbwd</th>\n",
       "      <th>Iws</th>\n",
       "      <th>precipitation</th>\n",
       "      <th>Iprec</th>\n",
       "      <th>city</th>\n",
       "    </tr>\n",
       "  </thead>\n",
       "  <tbody>\n",
       "    <tr>\n",
       "      <th>0</th>\n",
       "      <td>2011</td>\n",
       "      <td>9</td>\n",
       "      <td>27</td>\n",
       "      <td>2</td>\n",
       "      <td>3.0</td>\n",
       "      <td>226.0</td>\n",
       "      <td>13.0</td>\n",
       "      <td>87.00</td>\n",
       "      <td>1017.0</td>\n",
       "      <td>15.000000</td>\n",
       "      <td>SE</td>\n",
       "      <td>41.13</td>\n",
       "      <td>0.0</td>\n",
       "      <td>0.000000</td>\n",
       "      <td>beijing</td>\n",
       "    </tr>\n",
       "    <tr>\n",
       "      <th>1</th>\n",
       "      <td>2013</td>\n",
       "      <td>6</td>\n",
       "      <td>26</td>\n",
       "      <td>2</td>\n",
       "      <td>2.0</td>\n",
       "      <td>51.0</td>\n",
       "      <td>17.0</td>\n",
       "      <td>82.89</td>\n",
       "      <td>1000.0</td>\n",
       "      <td>20.000000</td>\n",
       "      <td>SE</td>\n",
       "      <td>1.00</td>\n",
       "      <td>8.8</td>\n",
       "      <td>10.900000</td>\n",
       "      <td>shenyang</td>\n",
       "    </tr>\n",
       "    <tr>\n",
       "      <th>2</th>\n",
       "      <td>2013</td>\n",
       "      <td>11</td>\n",
       "      <td>16</td>\n",
       "      <td>19</td>\n",
       "      <td>3.0</td>\n",
       "      <td>102.0</td>\n",
       "      <td>5.0</td>\n",
       "      <td>48.03</td>\n",
       "      <td>1019.0</td>\n",
       "      <td>16.000000</td>\n",
       "      <td>SW</td>\n",
       "      <td>3.00</td>\n",
       "      <td>0.0</td>\n",
       "      <td>0.000000</td>\n",
       "      <td>shanghai</td>\n",
       "    </tr>\n",
       "    <tr>\n",
       "      <th>3</th>\n",
       "      <td>2015</td>\n",
       "      <td>5</td>\n",
       "      <td>20</td>\n",
       "      <td>16</td>\n",
       "      <td>1.0</td>\n",
       "      <td>13.0</td>\n",
       "      <td>0.0</td>\n",
       "      <td>14.00</td>\n",
       "      <td>1012.0</td>\n",
       "      <td>30.000000</td>\n",
       "      <td>NW</td>\n",
       "      <td>4.92</td>\n",
       "      <td>0.0</td>\n",
       "      <td>0.000000</td>\n",
       "      <td>beijing</td>\n",
       "    </tr>\n",
       "    <tr>\n",
       "      <th>4</th>\n",
       "      <td>2015</td>\n",
       "      <td>5</td>\n",
       "      <td>9</td>\n",
       "      <td>15</td>\n",
       "      <td>1.0</td>\n",
       "      <td>7.0</td>\n",
       "      <td>22.1</td>\n",
       "      <td>91.00</td>\n",
       "      <td>1000.0</td>\n",
       "      <td>23.700001</td>\n",
       "      <td>SE</td>\n",
       "      <td>1.70</td>\n",
       "      <td>1.5</td>\n",
       "      <td>35.700001</td>\n",
       "      <td>guangzhou</td>\n",
       "    </tr>\n",
       "  </tbody>\n",
       "</table>\n",
       "</div>"
      ],
      "text/plain": [
       "   year  month  day  hour  season     PM  DEWP   HUMI    PRES       TEMP cbwd  \\\n",
       "0  2011      9   27     2     3.0  226.0  13.0  87.00  1017.0  15.000000   SE   \n",
       "1  2013      6   26     2     2.0   51.0  17.0  82.89  1000.0  20.000000   SE   \n",
       "2  2013     11   16    19     3.0  102.0   5.0  48.03  1019.0  16.000000   SW   \n",
       "3  2015      5   20    16     1.0   13.0   0.0  14.00  1012.0  30.000000   NW   \n",
       "4  2015      5    9    15     1.0    7.0  22.1  91.00  1000.0  23.700001   SE   \n",
       "\n",
       "     Iws  precipitation      Iprec       city  \n",
       "0  41.13            0.0   0.000000    beijing  \n",
       "1   1.00            8.8  10.900000   shenyang  \n",
       "2   3.00            0.0   0.000000   shanghai  \n",
       "3   4.92            0.0   0.000000    beijing  \n",
       "4   1.70            1.5  35.700001  guangzhou  "
      ]
     },
     "execution_count": 4,
     "metadata": {},
     "output_type": "execute_result"
    }
   ],
   "source": [
    "if not (os.path.isdir(DATA_FOLDER) and len(os.listdir(DATA_FOLDER)) == 5):\n",
    "    download_data(DATA_FOLDER)\n",
    "\n",
    "df_city = import_pm_city_data(DATA_FOLDER)\n",
    "\n",
    "df_city.head()"
   ]
  },
  {
   "cell_type": "markdown",
   "metadata": {},
   "source": [
    "The full label of some features (the non obvious one):\n",
    "\n",
    "- PM: PM2.5 concentration (ug/m^3)\n",
    "- DEWP: Dew Point (Celsius Degree)\n",
    "- TEMP: Temperature (Celsius Degree)\n",
    "- HUMI: Humidity (%)\n",
    "- PRES: Pressure (hPa)\n",
    "- cbwd: Combined wind direction\n",
    "- Iws: Cumulated wind speed (m/s)\n",
    "- precipitation: hourly precipitation (mm)\n",
    "- Iprec: Cumulated precipitation (mm)"
   ]
  },
  {
   "cell_type": "markdown",
   "metadata": {},
   "source": [
    "## 1.2. Types"
   ]
  },
  {
   "cell_type": "markdown",
   "metadata": {},
   "source": [
    "The types of the columns:"
   ]
  },
  {
   "cell_type": "code",
   "execution_count": 5,
   "metadata": {},
   "outputs": [
    {
     "data": {
      "text/plain": [
       "year               int64\n",
       "month              int64\n",
       "day                int64\n",
       "hour               int64\n",
       "season           float64\n",
       "PM               float64\n",
       "DEWP             float64\n",
       "HUMI             float64\n",
       "PRES             float64\n",
       "TEMP             float64\n",
       "cbwd              object\n",
       "Iws              float64\n",
       "precipitation    float64\n",
       "Iprec            float64\n",
       "city              object\n",
       "dtype: object"
      ]
     },
     "execution_count": 5,
     "metadata": {},
     "output_type": "execute_result"
    }
   ],
   "source": [
    "df_city.dtypes"
   ]
  },
  {
   "cell_type": "markdown",
   "metadata": {},
   "source": [
    "Some columns of the dataframe, such as `year`, `month`, `day`, `hour`, have been imported as integer type but **should be treated as categorical** by the model. Hence, we convert these columns to categorical (`str`) type."
   ]
  },
  {
   "cell_type": "code",
   "execution_count": 6,
   "metadata": {},
   "outputs": [],
   "source": [
    "to_cat_cols = [\"year\", \"month\", \"day\", \"hour\", \"season\"]\n",
    "\n",
    "for col in to_cat_cols:\n",
    "    df_city[col] = df_city[col].astype(str)\n",
    "\n",
    "# Some np.nan convert to \"nan\" when casting to object/str\n",
    "df_city[df_city == \"nan\"] = np.nan"
   ]
  },
  {
   "cell_type": "markdown",
   "metadata": {},
   "source": [
    "Also, we standardize the numerical variables so we can compare their weights."
   ]
  },
  {
   "cell_type": "code",
   "execution_count": 7,
   "metadata": {},
   "outputs": [],
   "source": [
    "for col in df_city.select_dtypes(np.number).columns.difference([\"PM\", \"log_PM\"]):\n",
    "    df_city[col] = (df_city[col] - df_city[col].mean()) / df_city[col].std()"
   ]
  },
  {
   "cell_type": "markdown",
   "metadata": {},
   "source": [
    "## 1.3. Highly correlated features"
   ]
  },
  {
   "cell_type": "markdown",
   "metadata": {},
   "source": [
    "The most correlated (> 0.99) variable(s):"
   ]
  },
  {
   "cell_type": "code",
   "execution_count": 8,
   "metadata": {},
   "outputs": [
    {
     "data": {
      "text/html": [
       "<div>\n",
       "<style scoped>\n",
       "    .dataframe tbody tr th:only-of-type {\n",
       "        vertical-align: middle;\n",
       "    }\n",
       "\n",
       "    .dataframe tbody tr th {\n",
       "        vertical-align: top;\n",
       "    }\n",
       "\n",
       "    .dataframe thead th {\n",
       "        text-align: right;\n",
       "    }\n",
       "</style>\n",
       "<table border=\"1\" class=\"dataframe\">\n",
       "  <thead>\n",
       "    <tr style=\"text-align: right;\">\n",
       "      <th></th>\n",
       "      <th>index</th>\n",
       "      <th>variable</th>\n",
       "      <th>value</th>\n",
       "    </tr>\n",
       "  </thead>\n",
       "  <tbody>\n",
       "    <tr>\n",
       "      <th>55</th>\n",
       "      <td>Iprec</td>\n",
       "      <td>precipitation</td>\n",
       "      <td>0.999998</td>\n",
       "    </tr>\n",
       "  </tbody>\n",
       "</table>\n",
       "</div>"
      ],
      "text/plain": [
       "    index       variable     value\n",
       "55  Iprec  precipitation  0.999998"
      ]
     },
     "execution_count": 8,
     "metadata": {},
     "output_type": "execute_result"
    }
   ],
   "source": [
    "(df_city.corr()\n",
    " .reset_index().melt(id_vars=\"index\")\n",
    " .loc[lambda df: df[\"index\"] < df[\"variable\"]] # since corr matrix is symetrical\n",
    " .loc[lambda df: (0.99 < df.value) & (df.value != 1)]\n",
    ")"
   ]
  },
  {
   "cell_type": "markdown",
   "metadata": {},
   "source": [
    "We drop the `Iprec` variable as it is almost perfectly correlated with the `precipitation` variable."
   ]
  },
  {
   "cell_type": "code",
   "execution_count": 9,
   "metadata": {},
   "outputs": [],
   "source": [
    "df_city.drop(columns=[\"Iprec\"], inplace=True)"
   ]
  },
  {
   "cell_type": "markdown",
   "metadata": {},
   "source": [
    "# 2. Train a first model\n",
    "\n",
    "## 2.1. Converting pandas's DataFrame to Vowpal Wabbit input format.\n",
    "\n",
    "We now use `DFtoVW` class to convert this dataframe to a suitable VW input format. \n",
    "\n",
    "There are 2 usages for the class `DFtoVW`:\n",
    "- **Basic usage**, using the `DFtoVW.from_colnames` convenience method.\n",
    "- **Advanced usage**, that relies on the VW input format specification (see: https://github.com/VowpalWabbit/vowpal_wabbit/wiki/Input-format) and is build upon classes such as `Feature`, `Namespace` or `SimpleLabel`, `MulticlassLabel` etc..\n",
    "\n",
    "The current section illustrates the basic usage. Section 4 will present the advanced usage.\n",
    "\n",
    "To use the `DFtoVW.from_colnames` method: the user provides the target name as a string (`y`), the features as a list of string (`x`) and the dataframe (`df`) that has to be converted to the method. The user can also specify the type of label (argument `label_type`, default being `simple_label` for the regression). This call will build a `DFtoVW` object. \n",
    "\n",
    "To get the actual examples (as a list), the user call the `convert_df` method."
   ]
  },
  {
   "cell_type": "code",
   "execution_count": 10,
   "metadata": {},
   "outputs": [
    {
     "name": "stdout",
     "output_type": "stream",
     "text": [
      "label: PM\n",
      "features: ['year', 'month', 'day', 'hour', 'season', 'DEWP', 'HUMI', 'PRES', 'TEMP', 'cbwd', 'Iws', 'precipitation', 'city']\n"
     ]
    }
   ],
   "source": [
    "y = \"PM\"\n",
    "x = ['year', 'month', 'day', 'hour', 'season', 'DEWP', 'HUMI', 'PRES', 'TEMP', 'cbwd', 'Iws', 'precipitation', 'city']\n",
    "\n",
    "print(\"label:\", y)\n",
    "print(\"features:\", x)\n",
    "\n",
    "converter = DFtoVW.from_colnames(df=df_city, y=y, x=x)\n",
    "examples = converter.convert_df()"
   ]
  },
  {
   "cell_type": "markdown",
   "metadata": {},
   "source": [
    "We can inspect the first few examples:"
   ]
  },
  {
   "cell_type": "code",
   "execution_count": 11,
   "metadata": {},
   "outputs": [
    {
     "data": {
      "text/plain": [
       "['226.0 | year=2011 month=9 day=27 hour=2 season=3.0 DEWP:0.08959465332461863 HUMI:0.3882591675380959 PRES:0.33023244897304604 TEMP:-0.09454293289813515 cbwd=SE Iws:0.3992336466478102 precipitation:-0.0025309449430064965 city=beijing',\n",
       " '51.0 | year=2013 month=6 day=26 hour=2 season=2.0 DEWP:0.16859123637869186 HUMI:0.3127123038886084 PRES:-1.3551226813011634 TEMP:0.3627977627323019 cbwd=SE Iws:-0.4485512843970286 precipitation:0.001016342077488344 city=shenyang',\n",
       " '102.0 | year=2013 month=11 day=16 hour=19 season=3.0 DEWP:-0.06839851278352785 HUMI:-0.32805744472967246 PRES:0.5285095231229531 TEMP:-0.003074793772047733 cbwd=SW Iws:-0.4062993566100942 precipitation:-0.0025309449430064965 city=shanghai',\n",
       " '13.0 | year=2015 month=5 day=20 hour=16 season=1.0 DEWP:-0.1671442416011194 HUMI:-0.9535707707618039 PRES:-0.16546023640172142 TEMP:1.277479153993176 cbwd=NW Iws:-0.36573750593463716 precipitation:-0.0025309449430064965 city=beijing',\n",
       " '7.0 | year=2015 month=5 day=9 hour=15 season=1.0 DEWP:0.26931188727731065 HUMI:0.4617840956641178 PRES:-1.3551226813011634 TEMP:0.7012299470146112 cbwd=SE Iws:-0.4337631086575553 precipitation:-0.0019262937463312396 city=guangzhou']"
      ]
     },
     "execution_count": 11,
     "metadata": {},
     "output_type": "execute_result"
    }
   ],
   "source": [
    "examples[:5]"
   ]
  },
  {
   "cell_type": "markdown",
   "metadata": {},
   "source": [
    "For categorical features, we see that VW format is `feature_name=feature_value` whereas for numerical feature the format is `feature_name:feature_value`. One nice property of the class is that it will build the appropriate VW type (numerical or categorical) based on the pandas's column type.\n",
    "\n",
    "Also note that:\n",
    "- for categorical variables, VW adds `:1` behind the scene. For instance `day=14` is equivalent to `day=14:1`\n",
    "- The `=` doesn't have any special meaning and another symbol could have been used. However it's quite standard to use `=`\n",
    "\n",
    "Finally, if the feature name provided by the user is not found of the dataframe, the class will raise a `ValueError`:"
   ]
  },
  {
   "cell_type": "code",
   "execution_count": 12,
   "metadata": {},
   "outputs": [
    {
     "name": "stdout",
     "output_type": "stream",
     "text": [
      "<class 'ValueError'>\n",
      "In 'Feature': column(s) 'COLUMN_NOT_IN_DF' not found in dataframe.\n"
     ]
    }
   ],
   "source": [
    "try:\n",
    "    DFtoVW.from_colnames(df=df_city, y=y, x=[\"TEMP\", \"COLUMN_NOT_IN_DF\"])\n",
    "except Exception as e:\n",
    "    print(type(e))\n",
    "    print(e)"
   ]
  },
  {
   "cell_type": "markdown",
   "metadata": {},
   "source": [
    "## 2.2. Define and train model"
   ]
  },
  {
   "cell_type": "markdown",
   "metadata": {},
   "source": [
    "We now define the VW model. Note that we enable logging and also set the progress parameter (`-P`) to 1 to log the information _for each iteration_."
   ]
  },
  {
   "cell_type": "code",
   "execution_count": 13,
   "metadata": {},
   "outputs": [],
   "source": [
    "model = vw(P=1, enable_logging=True)\n",
    "\n",
    "for ex in examples:\n",
    "    model.learn(ex)\n",
    "\n",
    "model.finish()"
   ]
  },
  {
   "cell_type": "markdown",
   "metadata": {},
   "source": [
    "# 3. Visualizing model outputs\n",
    "\n",
    "## 3.1. Retrieving model's parameters, losses/predictions and summary metrics from the log\n",
    "\n",
    "Since we enable logging in the model definition (subsection 2.2), we can inspect the model's log. We use the class `VWLogParser` defined above.\n",
    "\n",
    "The log is returned as a list of strings by the `vw.get_log` method. Below is the first 20 lines:"
   ]
  },
  {
   "cell_type": "code",
   "execution_count": 20,
   "metadata": {},
   "outputs": [
    {
     "data": {
      "text/plain": [
       "['Num weight bits = 18\\n',\n",
       " 'learning rate = 0.5\\n',\n",
       " 'initial_t = 0\\n',\n",
       " 'power_t = 0.5\\n',\n",
       " 'using no cache\\n',\n",
       " 'Reading datafile = \\n',\n",
       " 'num sources = 1\\n',\n",
       " 'Enabled reductions: gd, scorer\\n',\n",
       " 'average  since         example        example  current  current  current\\n',\n",
       " 'loss     last          counter         weight    label  predict features\\n',\n",
       " '51076.000000 51076.000000            1            1.0 226.0000   0.0000       14\\n',\n",
       " '26838.500000 2601.000000            2            2.0  51.0000   0.0000       14\\n',\n",
       " '21342.025716 10349.077148            3            3.0 102.0000   0.2696       14\\n',\n",
       " '16048.769287 169.000000            4            4.0  13.0000   0.0000       14\\n',\n",
       " '12846.064875 35.247227            5            5.0   7.0000   1.0631       14\\n',\n",
       " '10843.260626 829.239380            6            6.0  30.0000   1.2035       14\\n',\n",
       " '9308.463007 99.677292            7            7.0  11.0000   1.0161       14\\n',\n",
       " '11939.431742 30356.212891            8            8.0 175.0000   0.7697       14\\n',\n",
       " '10640.592718 249.880524            9            9.0  17.0000   1.1924       14\\n',\n",
       " '9759.436229 1829.027832           10           10.0  44.0000   1.2329       14\\n']"
      ]
     },
     "execution_count": 20,
     "metadata": {},
     "output_type": "execute_result"
    }
   ],
   "source": [
    "model.get_log()[:20]"
   ]
  },
  {
   "cell_type": "markdown",
   "metadata": {},
   "source": [
    "The class `VWLogParser` parses the following log information:\n",
    "- the parameters (in the first lines)\n",
    "- the information available at each iteration (in our case since `P=1`)\n",
    "- the summary metrics at the end of the log\n",
    "\n",
    "The parsed information is stored in objects (`dict` and `DataFrame`) that can be easily manipulated."
   ]
  },
  {
   "cell_type": "code",
   "execution_count": 15,
   "metadata": {},
   "outputs": [],
   "source": [
    "log_parser = VWLogParser(model.get_log())\n",
    "params, df_iter, summary_metrics = log_parser.parse()"
   ]
  },
  {
   "cell_type": "code",
   "execution_count": 16,
   "metadata": {},
   "outputs": [
    {
     "name": "stdout",
     "output_type": "stream",
     "text": [
      "Model's parameter\n"
     ]
    },
    {
     "data": {
      "text/plain": [
       "{'Num weight bits': 18,\n",
       " 'learning rate': 0.5,\n",
       " 'initial_t': 0,\n",
       " 'power_t': 0.5,\n",
       " 'Reading datafile': '',\n",
       " 'num sources': 1,\n",
       " 'Enabled reductions': 'gd, scorer'}"
      ]
     },
     "metadata": {},
     "output_type": "display_data"
    },
    {
     "name": "stdout",
     "output_type": "stream",
     "text": [
      "\n",
      "\n",
      "Information at each iteration\n"
     ]
    },
    {
     "data": {
      "text/html": [
       "<div>\n",
       "<style scoped>\n",
       "    .dataframe tbody tr th:only-of-type {\n",
       "        vertical-align: middle;\n",
       "    }\n",
       "\n",
       "    .dataframe tbody tr th {\n",
       "        vertical-align: top;\n",
       "    }\n",
       "\n",
       "    .dataframe thead th {\n",
       "        text-align: right;\n",
       "    }\n",
       "</style>\n",
       "<table border=\"1\" class=\"dataframe\">\n",
       "  <thead>\n",
       "    <tr style=\"text-align: right;\">\n",
       "      <th></th>\n",
       "      <th>average_loss</th>\n",
       "      <th>since_last</th>\n",
       "      <th>example_counter</th>\n",
       "      <th>example_weight</th>\n",
       "      <th>current_label</th>\n",
       "      <th>current_predict</th>\n",
       "      <th>current_features</th>\n",
       "    </tr>\n",
       "  </thead>\n",
       "  <tbody>\n",
       "    <tr>\n",
       "      <th>0</th>\n",
       "      <td>51076.000000</td>\n",
       "      <td>51076.000000</td>\n",
       "      <td>1</td>\n",
       "      <td>1.0</td>\n",
       "      <td>226.0</td>\n",
       "      <td>0.0000</td>\n",
       "      <td>14</td>\n",
       "    </tr>\n",
       "    <tr>\n",
       "      <th>1</th>\n",
       "      <td>26838.500000</td>\n",
       "      <td>2601.000000</td>\n",
       "      <td>2</td>\n",
       "      <td>2.0</td>\n",
       "      <td>51.0</td>\n",
       "      <td>0.0000</td>\n",
       "      <td>14</td>\n",
       "    </tr>\n",
       "    <tr>\n",
       "      <th>2</th>\n",
       "      <td>21342.025716</td>\n",
       "      <td>10349.077148</td>\n",
       "      <td>3</td>\n",
       "      <td>3.0</td>\n",
       "      <td>102.0</td>\n",
       "      <td>0.2696</td>\n",
       "      <td>14</td>\n",
       "    </tr>\n",
       "    <tr>\n",
       "      <th>3</th>\n",
       "      <td>16048.769287</td>\n",
       "      <td>169.000000</td>\n",
       "      <td>4</td>\n",
       "      <td>4.0</td>\n",
       "      <td>13.0</td>\n",
       "      <td>0.0000</td>\n",
       "      <td>14</td>\n",
       "    </tr>\n",
       "    <tr>\n",
       "      <th>4</th>\n",
       "      <td>12846.064875</td>\n",
       "      <td>35.247227</td>\n",
       "      <td>5</td>\n",
       "      <td>5.0</td>\n",
       "      <td>7.0</td>\n",
       "      <td>1.0631</td>\n",
       "      <td>14</td>\n",
       "    </tr>\n",
       "    <tr>\n",
       "      <th>...</th>\n",
       "      <td>...</td>\n",
       "      <td>...</td>\n",
       "      <td>...</td>\n",
       "      <td>...</td>\n",
       "      <td>...</td>\n",
       "      <td>...</td>\n",
       "      <td>...</td>\n",
       "    </tr>\n",
       "    <tr>\n",
       "      <th>167353</th>\n",
       "      <td>4165.421788</td>\n",
       "      <td>978.738098</td>\n",
       "      <td>167354</td>\n",
       "      <td>167354.0</td>\n",
       "      <td>42.0</td>\n",
       "      <td>73.2848</td>\n",
       "      <td>14</td>\n",
       "    </tr>\n",
       "    <tr>\n",
       "      <th>167354</th>\n",
       "      <td>4165.402167</td>\n",
       "      <td>881.800232</td>\n",
       "      <td>167355</td>\n",
       "      <td>167355.0</td>\n",
       "      <td>110.0</td>\n",
       "      <td>80.3049</td>\n",
       "      <td>14</td>\n",
       "    </tr>\n",
       "    <tr>\n",
       "      <th>167355</th>\n",
       "      <td>4165.395757</td>\n",
       "      <td>3092.619873</td>\n",
       "      <td>167356</td>\n",
       "      <td>167356.0</td>\n",
       "      <td>27.0</td>\n",
       "      <td>82.6113</td>\n",
       "      <td>14</td>\n",
       "    </tr>\n",
       "    <tr>\n",
       "      <th>167356</th>\n",
       "      <td>4165.377903</td>\n",
       "      <td>1177.436157</td>\n",
       "      <td>167357</td>\n",
       "      <td>167357.0</td>\n",
       "      <td>27.0</td>\n",
       "      <td>61.3138</td>\n",
       "      <td>14</td>\n",
       "    </tr>\n",
       "    <tr>\n",
       "      <th>167357</th>\n",
       "      <td>4165.371186</td>\n",
       "      <td>3041.161621</td>\n",
       "      <td>167358</td>\n",
       "      <td>167358.0</td>\n",
       "      <td>27.0</td>\n",
       "      <td>82.1467</td>\n",
       "      <td>14</td>\n",
       "    </tr>\n",
       "  </tbody>\n",
       "</table>\n",
       "<p>167358 rows × 7 columns</p>\n",
       "</div>"
      ],
      "text/plain": [
       "        average_loss    since_last  example_counter  example_weight  \\\n",
       "0       51076.000000  51076.000000                1             1.0   \n",
       "1       26838.500000   2601.000000                2             2.0   \n",
       "2       21342.025716  10349.077148                3             3.0   \n",
       "3       16048.769287    169.000000                4             4.0   \n",
       "4       12846.064875     35.247227                5             5.0   \n",
       "...              ...           ...              ...             ...   \n",
       "167353   4165.421788    978.738098           167354        167354.0   \n",
       "167354   4165.402167    881.800232           167355        167355.0   \n",
       "167355   4165.395757   3092.619873           167356        167356.0   \n",
       "167356   4165.377903   1177.436157           167357        167357.0   \n",
       "167357   4165.371186   3041.161621           167358        167358.0   \n",
       "\n",
       "        current_label  current_predict  current_features  \n",
       "0               226.0           0.0000                14  \n",
       "1                51.0           0.0000                14  \n",
       "2               102.0           0.2696                14  \n",
       "3                13.0           0.0000                14  \n",
       "4                 7.0           1.0631                14  \n",
       "...               ...              ...               ...  \n",
       "167353           42.0          73.2848                14  \n",
       "167354          110.0          80.3049                14  \n",
       "167355           27.0          82.6113                14  \n",
       "167356           27.0          61.3138                14  \n",
       "167357           27.0          82.1467                14  \n",
       "\n",
       "[167358 rows x 7 columns]"
      ]
     },
     "metadata": {},
     "output_type": "display_data"
    },
    {
     "name": "stdout",
     "output_type": "stream",
     "text": [
      "\n",
      "\n",
      "Summary metrics\n"
     ]
    },
    {
     "data": {
      "text/plain": [
       "{'number of examples': 167358,\n",
       " 'weighted example sum': 167358,\n",
       " 'weighted label sum': 12331595,\n",
       " 'average loss': 4165.371186,\n",
       " 'best constant': 73.683929,\n",
       " 'total feature number': 2336281}"
      ]
     },
     "metadata": {},
     "output_type": "display_data"
    }
   ],
   "source": [
    "print(\"Model's parameters\")\n",
    "display(params)\n",
    "print(\"\\n\")\n",
    "\n",
    "print(\"Information at each iteration\")\n",
    "display(df_iter)\n",
    "print(\"\\n\")\n",
    "\n",
    "print(\"Summary metrics\")\n",
    "display(summary_metrics)"
   ]
  },
  {
   "cell_type": "markdown",
   "metadata": {},
   "source": [
    "## 3.2. Visualizing losses across iterations + distribution of selected metrics"
   ]
  },
  {
   "cell_type": "code",
   "execution_count": 17,
   "metadata": {},
   "outputs": [
    {
     "data": {
      "image/png": "[encoded data removed]",
      "text/plain": [
       "<Figure size 1350x360 with 2 Axes>"
      ]
     },
     "metadata": {
      "needs_background": "light"
     },
     "output_type": "display_data"
    }
   ],
   "source": [
    "scatter_var = [\"average_loss\", \"since_last\"]\n",
    "g = sns.relplot(data=df_iter[scatter_var + [\"example_counter\"]].melt(id_vars=\"example_counter\"), \n",
    "                x=\"example_counter\", y=\"value\", col=\"variable\",\n",
    "                col_wrap=3, facet_kws={'sharey': False, 'sharex': True}, kind=\"scatter\", s=5, height=5, aspect=1.25)\n",
    "g.fig.suptitle('Scatter plot of losses', fontsize=SUPTITLE_FONTSIZE, fontweight=SUPTITLE_FONTWEIGHT)\n",
    "g.set_titles(\"{col_name}\", size=TITLE_FONTSIZE)\n",
    "g.fig.tight_layout()"
   ]
  },
  {
   "cell_type": "markdown",
   "metadata": {},
   "source": [
    "In the sections that follow, we consider the metrics for iterations after 50 000. Before this threshold, the average loss is too high."
   ]
  },
  {
   "cell_type": "code",
   "execution_count": 18,
   "metadata": {},
   "outputs": [],
   "source": [
    "start_idx = 50_000"
   ]
  },
  {
   "cell_type": "code",
   "execution_count": 19,
   "metadata": {},
   "outputs": [
    {
     "data": {
      "image/png": "[encoded data removed]",
      "text/plain": [
       "<Figure size 1558.5x360 with 4 Axes>"
      ]
     },
     "metadata": {
      "needs_background": "light"
     },
     "output_type": "display_data"
    }
   ],
   "source": [
    "distr_vars = [\"current_label\", \"current_predict\", \"current_features\", \"example_weight\"]\n",
    "\n",
    "g = sns.displot(data=df_iter.loc[start_idx:, distr_vars].melt(), \n",
    "                x=\"value\", col=\"variable\", multiple=\"dodge\", hue=\"variable\", bins=50,\n",
    "                common_bins=False, facet_kws=dict(sharex=False, sharey=False), col_wrap=4, height=5)\n",
    "g.fig.suptitle('Distribution of selected metrics', fontsize=SUPTITLE_FONTSIZE, fontweight=SUPTITLE_FONTWEIGHT)\n",
    "g.set_titles(\"{col_name}\", size=TITLE_FONTSIZE)\n",
    "g.fig.tight_layout()"
   ]
  },
  {
   "cell_type": "markdown",
   "metadata": {},
   "source": [
    "We notice that the distribution of the predictions differs substantially from the one of the labels. \n",
    "\n",
    "## 3.3. Visualizing the predictions of the model\n",
    "\n",
    "This section offers a visualization of the model's predictions and compares them with the labels (the truth). "
   ]
  },
  {
   "cell_type": "code",
   "execution_count": null,
   "metadata": {},
   "outputs": [],
   "source": [
    "error = df_iter.current_label - df_iter.current_predict\n",
    "\n",
    "f, (ax1, ax2) = plt.subplots(figsize=(20, 7), ncols=2)\n",
    "f.suptitle('Predictions and errors', fontsize=SUPTITLE_FONTSIZE, fontweight=SUPTITLE_FONTWEIGHT)\n",
    "\n",
    "# Scatterplot pred vs truth\n",
    "sns.scatterplot(data=df_iter.loc[start_idx:], x=\"current_predict\", y=\"current_label\", ax=ax1, s=3, alpha=.15)\n",
    "ax1.set_title(\"Prediction vs truth\", fontsize=TITLE_FONTSIZE)\n",
    "max_range = int(df_iter[[\"current_label\", \"current_predict\"]].quantile(.99).max())\n",
    "ax1.set_xlim([0, max_range])\n",
    "ax1.set_ylim([0, max_range])\n",
    "\n",
    "# Adding x=y line\n",
    "#range_x = range(0, int(df_iter[[\"current_predict\", \"current_label\"]].max().min()))\n",
    "range_x = range(0, max_range)\n",
    "ax1.plot(range_x, range_x, linestyle=\":\", color=\"red\", linewidth=2.5)\n",
    "\n",
    "# Histogram of errors\n",
    "sns.histplot(error[start_idx:], ax=ax2)\n",
    "ax2.set_title(\"Distribution of errors\", fontsize=TITLE_FONTSIZE)\n",
    "\n",
    "plt.show()"
   ]
  },
  {
   "cell_type": "markdown",
   "metadata": {},
   "source": [
    "\n",
    "The model tends to undervalue the concentration of PM. Another way to see it is that the errors (difference between the label and the prediction) doesn't seem normally distributed (especially the right tail)."
   ]
  },
  {
   "cell_type": "markdown",
   "metadata": {},
   "source": [
    "## 3.4. Visualizing learnt weights"
   ]
  },
  {
   "cell_type": "code",
   "execution_count": null,
   "metadata": {},
   "outputs": [],
   "source": [
    "# Get VW feature names\n",
    "feature_names = get_feature_names(df_city)\n",
    "\n",
    "# Get weights from feature names\n",
    "weights_df = pd.DataFrame([(name, get_weight_from_name(model, name), \"=\" in name) for name in feature_names], \n",
    "                          columns=[\"vw_feature_name\", \"weight\", \"is_cat\"])\n",
    "\n",
    "# Adding columns for easier visualization\n",
    "weights_df[\"feature_name\"] = weights_df.apply(lambda row: row.vw_feature_name.split(\"=\")[0] if row.is_cat else row.vw_feature_name, axis=1)\n",
    "weights_df[\"feature_value\"] = weights_df.apply(lambda row: row.vw_feature_name.split(\"=\")[1].zfill(2) if row.is_cat else row.vw_feature_name, axis=1)\n",
    "weights_df.sort_values([\"feature_name\", \"feature_value\"], inplace=True)"
   ]
  },
  {
   "cell_type": "code",
   "execution_count": null,
   "metadata": {
    "tags": []
   },
   "outputs": [],
   "source": [
    "g = sns.catplot(data=weights_df[lambda df: df.is_cat], kind=\"bar\", x=\"feature_value\", y=\"weight\", col=\"feature_name\", hue=\"feature_name\",\n",
    "                col_wrap=3, sharex=False, sharey=False, aspect=1.5, dodge=False)\n",
    "g.fig.suptitle('Feature weights (categorical features)', fontsize=SUPTITLE_FONTSIZE, fontweight=SUPTITLE_FONTWEIGHT)\n",
    "g.set_titles(\"{col_name}\", size=TITLE_FONTSIZE)\n",
    "\n",
    "# Add horizontal bar at y=0\n",
    "for ax in g.axes.flat:\n",
    "    ax.axhline(0, color=\"gray\", linestyle=\":\")\n",
    "g.fig.tight_layout()"
   ]
  },
  {
   "cell_type": "markdown",
   "metadata": {},
   "source": [
    "Based on the weights learnt by the model, the pollution will be higher:\n",
    "\n",
    "- for wind orientation \"calm and variable\" (CV)\n",
    "- for cities such as Beijing or Chengdu\n",
    "- for winter season/months\n",
    "- for certain day of month such as 21-23 (oddly)\n",
    "\n",
    "The pollution will tend to be lower: \n",
    "\n",
    "- for year 2015\n",
    "- for hours around noon"
   ]
  },
  {
   "cell_type": "code",
   "execution_count": null,
   "metadata": {},
   "outputs": [],
   "source": [
    "f, ax = plt.subplots(figsize=(12, 5))\n",
    "ax = sns.barplot(data=weights_df[lambda df: df.is_cat == False], x=\"feature_name\", y=\"weight\")\n",
    "ax.set_title(\"Feature weight (numerical features)\", fontsize=TITLE_FONTSIZE)\n",
    "\n",
    "# Set xlabels in bold, remove x-axis title\n",
    "ax.set_xticklabels(ax.get_xticklabels(), fontweight=SUPTITLE_FONTWEIGHT)\n",
    "ax.set(xlabel=None)\n",
    "\n",
    "# Add horizontal line\n",
    "ax.axhline(0, linestyle=\":\", color=\"gray\")\n",
    "\n",
    "plt.show()"
   ]
  },
  {
   "cell_type": "markdown",
   "metadata": {},
   "source": [
    "Higher cumulated wind speed (Iws) and higher temperature (TEMP) are associated with lower pollution concentration. \n",
    "\n",
    "Higher air pressure (PRES) is associated with higher pollution concentration."
   ]
  },
  {
   "cell_type": "markdown",
   "metadata": {},
   "source": [
    "# 4. Train a more complex model: using log transformed target and namespace interactions\n",
    "\n",
    "This section illustrates the **advanced usage** of `DFtoVW` class. To do so, we will need to import some specific classes/types from the DFtoVW module."
   ]
  },
  {
   "cell_type": "code",
   "execution_count": null,
   "metadata": {},
   "outputs": [],
   "source": [
    "from vowpalwabbit.DFtoVW import SimpleLabel, Namespace, Feature"
   ]
  },
  {
   "cell_type": "markdown",
   "metadata": {},
   "source": [
    "The following drawing explains **how to use these classes**:\n",
    "\n",
    "<div>\n",
    "<img src=\"DFtoVW_usage.png\" align=\"center\" width=\"1250\"/>\n",
    "</div>"
   ]
  },
  {
   "cell_type": "markdown",
   "metadata": {},
   "source": [
    "## 4.1. Using log transformed variable\n",
    "\n",
    "The distribution of the target is close to a log-normal distribution:"
   ]
  },
  {
   "cell_type": "code",
   "execution_count": null,
   "metadata": {},
   "outputs": [],
   "source": [
    "f, (ax1, ax2) = plt.subplots(figsize=(12, 5), ncols=2)\n",
    "f.suptitle('Distribution of the target (PM)', fontsize=SUPTITLE_FONTSIZE, fontweight=SUPTITLE_FONTWEIGHT)\n",
    "\n",
    "df_city[\"PM\"].hist(bins=40, ax=ax1)\n",
    "ax1.set_title(\"No transformation\", fontsize=TITLE_FONTSIZE)\n",
    "\n",
    "np.log(df_city[\"PM\"]).hist(bins=40, ax=ax2)\n",
    "ax2.set_title(\"Log-transformed\", fontsize=TITLE_FONTSIZE)\n",
    "\n",
    "plt.show()"
   ]
  },
  {
   "cell_type": "markdown",
   "metadata": {},
   "source": [
    "We decide to train the model on the log transformation of the target (called `log_PM`). \n",
    "\n",
    "For regression purpose, we use `SimpleLabel` class (more details on this type on the [Input Format page](https://github.com/VowpalWabbit/vowpal_wabbit/wiki/Input-format#simple) of the wiki) to represent the target."
   ]
  },
  {
   "cell_type": "code",
   "execution_count": null,
   "metadata": {},
   "outputs": [],
   "source": [
    "df_city[\"log_PM\"] = df_city[\"PM\"].apply(np.log)\n",
    "label = SimpleLabel(\"log_PM\")"
   ]
  },
  {
   "cell_type": "markdown",
   "metadata": {},
   "source": [
    "## 4.2. Defining namespaces\n",
    "\n",
    "Namespaces are defined using the `Namespace` class. They are formed with a (list of) `Feature` and can have a name."
   ]
  },
  {
   "cell_type": "code",
   "execution_count": null,
   "metadata": {},
   "outputs": [],
   "source": [
    "# Datetime namespace\n",
    "datetime_features = [\"year\", \"month\", \"day\", \"hour\", \"season\"]\n",
    "ns_datetime = Namespace(features=[Feature(col) for col in datetime_features], name=\"datetime_ns\")\n",
    "\n",
    "# City namespace\n",
    "ns_city = Namespace(features=Feature(\"city\"), name=\"city_ns\")\n",
    "\n",
    "# Other namespace\n",
    "weather_features = df_city.columns.difference([\"PM\", \"log_PM\", \"city\"] + datetime_features, sort=False).tolist()\n",
    "ns_weather = Namespace(features=[Feature(col) for col in weather_features], name=\"weather_ns\")"
   ]
  },
  {
   "cell_type": "markdown",
   "metadata": {},
   "source": [
    "## 4.3. Converting to VW format and training model"
   ]
  },
  {
   "cell_type": "code",
   "execution_count": null,
   "metadata": {},
   "outputs": [],
   "source": [
    "converter_advanced = DFtoVW(df=df_city, namespaces=[ns_datetime, ns_weather, ns_city], label=label)"
   ]
  },
  {
   "cell_type": "markdown",
   "metadata": {},
   "source": [
    "`Namespace` and `Feature` objects can be accessed using `DFtoVW`'s instance attributes `namespaces` and `features`:"
   ]
  },
  {
   "cell_type": "code",
   "execution_count": null,
   "metadata": {
    "tags": []
   },
   "outputs": [],
   "source": [
    "for namespace in converter_advanced.namespaces:\n",
    "    print(\"namespace:\", namespace.name)\n",
    "    for feature in namespace.features:\n",
    "        print(\"\\tfeature:\", feature.name)"
   ]
  },
  {
   "cell_type": "markdown",
   "metadata": {},
   "source": [
    "We can inspect the first few examples:"
   ]
  },
  {
   "cell_type": "code",
   "execution_count": null,
   "metadata": {},
   "outputs": [],
   "source": [
    "examples_advanced = converter_advanced.convert_df()\n",
    "examples_advanced[:5]"
   ]
  },
  {
   "cell_type": "markdown",
   "metadata": {},
   "source": [
    "In this new model we will add interactions between the \"city\" namespace and the \"other\" namespace (which contains atmospheric features)."
   ]
  },
  {
   "cell_type": "code",
   "execution_count": null,
   "metadata": {},
   "outputs": [],
   "source": [
    "model_advanced = vw(arg_str=\"--redefine W:=weather_ns --interactions W:\", P=1, enable_logging=True)\n",
    "\n",
    "for ex in examples_advanced:\n",
    "    model_advanced.learn(ex)\n",
    "\n",
    "model_advanced.finish()"
   ]
  },
  {
   "cell_type": "markdown",
   "metadata": {},
   "source": [
    "## 4.4. Visualizing model output\n",
    "\n",
    "We transformed the labels and predictions using exponential function (since the target is log-transformed) so we can compare them with the quantities of section 3."
   ]
  },
  {
   "cell_type": "code",
   "execution_count": null,
   "metadata": {},
   "outputs": [],
   "source": [
    "params_advanced, df_iter_advanced, metrics_advanced = VWLogParser(model_advanced.get_log()).parse()\n",
    "\n",
    "df_iter_advanced.current_label = np.exp(df_iter_advanced.current_label)\n",
    "df_iter_advanced.current_predict = np.exp(df_iter_advanced.current_predict)"
   ]
  },
  {
   "cell_type": "code",
   "execution_count": null,
   "metadata": {},
   "outputs": [],
   "source": [
    "error_advanced = df_iter_advanced.current_label - df_iter_advanced.current_predict\n",
    "\n",
    "f, ((ax1, ax2), (ax3, ax4)) = plt.subplots(figsize=(20, 12), ncols=2, nrows=2)\n",
    "f.suptitle('Predictions, truth and errors', fontsize=SUPTITLE_FONTSIZE, fontweight=SUPTITLE_FONTWEIGHT)\n",
    "\n",
    "sns.histplot(df_iter_advanced.current_label.iloc[start_idx:], ax=ax1, color=\"blue\")\n",
    "ax1.set_title(\"Distribution of current_label\", fontsize=TITLE_FONTSIZE)\n",
    "\n",
    "sns.histplot(df_iter_advanced.current_predict.iloc[start_idx:], ax=ax2, color=\"orange\")\n",
    "ax2.set_title(\"Distribution of current_predict\", fontsize=TITLE_FONTSIZE)\n",
    "\n",
    "sns.scatterplot(data=df_iter_advanced.iloc[start_idx:], \n",
    "                x=\"current_predict\", y=\"current_label\", ax=ax3, s=3, alpha=.15)\n",
    "ax3.set_title(\"Prediction vs truth\", fontsize=TITLE_FONTSIZE)\n",
    "\n",
    "# Add x=y line\n",
    "max_range = int(df_iter[[\"current_label\", \"current_predict\"]].quantile(.99).max())\n",
    "ax3.set_xlim(0, max_range)\n",
    "ax3.set_ylim(0, max_range)\n",
    "range_x = range(0, max_range)\n",
    "ax3.plot(range_x, range_x, linestyle=\":\", color=\"red\", linewidth=2.5)\n",
    "\n",
    "sns.histplot(error_advanced, ax=ax4)\n",
    "ax4.set_title(\"Distribution of errors\", fontsize=TITLE_FONTSIZE)\n",
    "\n",
    "plt.show()"
   ]
  },
  {
   "cell_type": "markdown",
   "metadata": {},
   "source": [
    "For this model, the distribution of the predictions is more in line with the distribution of the labels.\n",
    "\n",
    "The errors of this model are also closer to a normal distribution, even though the model still undervalues some observations.\n",
    "\n",
    "## 4.5. Comparing models performance\n",
    "\n",
    "In this subsection the model in section 2 is called \"simple\" and the current model (with interactions and log-transformed) is called \"advanced\"."
   ]
  },
  {
   "cell_type": "code",
   "execution_count": null,
   "metadata": {},
   "outputs": [],
   "source": [
    "loss_type = 1 # 1 for L1-loss, 2 for L2-loss\n",
    "n_iter = 10_000 # Number of iterations on which to compute the loss (for moving average and final value)\n",
    "\n",
    "df_loss = (pd.concat([error, error_advanced], axis=1, keys=[\"simple\", \"advanced\"])\n",
    "           .apply(lambda x: np.power(np.abs(x), loss_type)))\n",
    "\n",
    "f, (ax1, ax2) = plt.subplots(ncols=2, figsize=(15, 5.5))\n",
    "f.suptitle(\"Comparison of models' performances\", fontweight=SUPTITLE_FONTWEIGHT, fontsize=SUPTITLE_FONTSIZE)\n",
    "\n",
    "df_loss.rolling(n_iter).mean().plot(ax=ax1)\n",
    "ax1.set_title(f\"Moving average of loss (over {n_iter} iterations)\", fontsize=15)\n",
    "\n",
    "loss_last_it = df_loss.tail(n_iter).mean()\n",
    "pct_diff_loss = 100 * (loss_last_it.advanced / loss_last_it.simple - 1)\n",
    "\n",
    "loss_last_it.plot.bar(ax=ax2, color=\"gray\")\n",
    "ax2.set_title(f\"Loss computed on the last {n_iter} iterations\", fontsize=15)\n",
    "ax2.text(.75, loss_last_it.advanced * 1.025, f\"Δ% loss= {pct_diff_loss:.2f}\", fontsize=12, fontweight=SUPTITLE_FONTWEIGHT)\n",
    "ax2.set_xticklabels(ax2.get_xticklabels(), fontsize=13, rotation=0)\n",
    "\n",
    "plt.show()"
   ]
  },
  {
   "cell_type": "markdown",
   "metadata": {},
   "source": [
    "The model with interactions and log-transformed target offers a substantial improvement over the simple model: the **loss** (computed on the last 10 000 observations) **decrease by about 23%**."
   ]
  }
 ],
 "metadata": {
  "kernelspec": {
   "display_name": "Vowpal wabbit kernel",
   "language": "python",
   "name": ".vw"
  },
  "language_info": {
   "codemirror_mode": {
    "name": "ipython",
    "version": 3
   },
   "file_extension": ".py",
   "mimetype": "text/x-python",
   "name": "python",
   "nbconvert_exporter": "python",
   "pygments_lexer": "ipython3",
   "version": "3.8.10"
  }
 },
 "nbformat": 4,
 "nbformat_minor": 4
}
