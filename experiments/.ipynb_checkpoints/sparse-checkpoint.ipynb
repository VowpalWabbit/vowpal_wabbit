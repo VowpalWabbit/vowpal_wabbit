{
 "cells": [
  {
   "cell_type": "code",
   "execution_count": null,
   "metadata": {},
   "outputs": [],
   "source": [
    "import torch\n",
    "import torch.nn as nn\n",
    "\n",
    "input = torch.rand(64, 64).half().cuda()\n",
    "mask = torch.Tensor([0, 0, 1, 1]).tile((64, 16)).cuda().bool()\n",
    "linear = nn.Linear(64, 64).half().cuda()\n",
    "linear.weight = nn.Parameter(nn.utils.to_sparse_coo(linear.weight.masked_fill(~mask, 0)))"
   ]
  }
 ],
 "metadata": {
  "kernelspec": {
   "display_name": "env",
   "language": "python",
   "name": "python3"
  },
  "language_info": {
   "name": "python",
   "version": "3.11.3"
  }
 },
 "nbformat": 4,
 "nbformat_minor": 2
}
